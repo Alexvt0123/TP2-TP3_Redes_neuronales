{
 "cells": [
  {
   "cell_type": "code",
   "execution_count": 3,
   "metadata": {},
   "outputs": [
    {
     "name": "stderr",
     "output_type": "stream",
     "text": [
      "C:\\Users\\Alex van Tol\\anaconda3\\lib\\site-packages\\scipy\\__init__.py:146: UserWarning: A NumPy version >=1.16.5 and <1.23.0 is required for this version of SciPy (detected version 1.26.1\n",
      "  warnings.warn(f\"A NumPy version >={np_minversion} and <{np_maxversion}\"\n"
     ]
    }
   ],
   "source": [
    "from tensorflow.compat.v1 import ConfigProto\n",
    "from tensorflow.compat.v1 import InteractiveSession\n",
    "config = ConfigProto()\n",
    "config.gpu_options.allow_growth = True\n",
    "session = InteractiveSession(config=config)"
   ]
  },
  {
   "cell_type": "code",
   "execution_count": 4,
   "metadata": {},
   "outputs": [],
   "source": [
    "import pandas as pd\n",
    "import numpy as np\n",
    "import datetime\n",
    "from pandas_summary import DataFrameSummary"
   ]
  },
  {
   "cell_type": "code",
   "execution_count": 5,
   "metadata": {},
   "outputs": [],
   "source": [
    "from tensorflow.keras.utils import to_categorical"
   ]
  },
  {
   "cell_type": "code",
   "execution_count": 6,
   "metadata": {},
   "outputs": [],
   "source": [
    "df = pd.read_feather('train_normalized_data.fth')\n",
    "df_test = pd.read_feather('test_normalized_data.fth')"
   ]
  },
  {
   "cell_type": "code",
   "execution_count": 18,
   "metadata": {},
   "outputs": [],
   "source": [
    "cat_vars = ['Store', 'DayOfWeek', 'Year', 'Month', 'Day', 'StateHoliday', 'CompetitionMonthsOpen', 'Promo2Weeks', \n",
    "            'StoreType', 'Assortment', 'PromoInterval', 'CompetitionOpenSinceYear', 'Promo2SinceYear', 'State', \n",
    "            'Week', 'Events', 'Promo_fw', 'Promo_bw', 'StateHoliday_bool_fw', 'StateHoliday_bool_bw', 'SchoolHoliday_fw', 'SchoolHoliday_bw']\n",
    "\n",
    "#cat_vars = ['Store', 'DayOfWeek']"
   ]
  },
  {
   "cell_type": "code",
   "execution_count": 19,
   "metadata": {},
   "outputs": [],
   "source": [
    "contin_vars = ['CompetitionDistance', \n",
    "   'Max_TemperatureC', 'Mean_TemperatureC', 'Min_TemperatureC', 'Precipitationmm',\n",
    "   'Max_Humidity', 'Mean_Humidity', 'Min_Humidity', 'Max_Wind_SpeedKm_h', \n",
    "   'Mean_Wind_SpeedKm_h', 'CloudCover', 'trend', 'trend_DE',\n",
    "   'AfterStateHoliday_bool', 'BeforeStateHoliday_bool', 'Promo', 'SchoolHoliday', 'StateHoliday_bool']\n",
    "contin_vars = ['BeforeStateHoliday_bool', 'Max_TemperatureC']"
   ]
  },
  {
   "cell_type": "code",
   "execution_count": 20,
   "metadata": {},
   "outputs": [],
   "source": [
    "uniques = DataFrameSummary(df[cat_vars]).summary().loc[['uniques']]"
   ]
  },
  {
   "cell_type": "code",
   "execution_count": 21,
   "metadata": {},
   "outputs": [
    {
     "data": {
      "text/html": [
       "<div>\n",
       "<style scoped>\n",
       "    .dataframe tbody tr th:only-of-type {\n",
       "        vertical-align: middle;\n",
       "    }\n",
       "\n",
       "    .dataframe tbody tr th {\n",
       "        vertical-align: top;\n",
       "    }\n",
       "\n",
       "    .dataframe thead th {\n",
       "        text-align: right;\n",
       "    }\n",
       "</style>\n",
       "<table border=\"1\" class=\"dataframe\">\n",
       "  <thead>\n",
       "    <tr style=\"text-align: right;\">\n",
       "      <th></th>\n",
       "      <th>uniques</th>\n",
       "    </tr>\n",
       "  </thead>\n",
       "  <tbody>\n",
       "    <tr>\n",
       "      <th>Store</th>\n",
       "      <td>1115</td>\n",
       "    </tr>\n",
       "    <tr>\n",
       "      <th>DayOfWeek</th>\n",
       "      <td>7</td>\n",
       "    </tr>\n",
       "    <tr>\n",
       "      <th>Year</th>\n",
       "      <td>3</td>\n",
       "    </tr>\n",
       "    <tr>\n",
       "      <th>Month</th>\n",
       "      <td>12</td>\n",
       "    </tr>\n",
       "    <tr>\n",
       "      <th>Day</th>\n",
       "      <td>31</td>\n",
       "    </tr>\n",
       "    <tr>\n",
       "      <th>StateHoliday</th>\n",
       "      <td>4</td>\n",
       "    </tr>\n",
       "    <tr>\n",
       "      <th>CompetitionMonthsOpen</th>\n",
       "      <td>25</td>\n",
       "    </tr>\n",
       "    <tr>\n",
       "      <th>Promo2Weeks</th>\n",
       "      <td>26</td>\n",
       "    </tr>\n",
       "    <tr>\n",
       "      <th>StoreType</th>\n",
       "      <td>4</td>\n",
       "    </tr>\n",
       "    <tr>\n",
       "      <th>Assortment</th>\n",
       "      <td>3</td>\n",
       "    </tr>\n",
       "    <tr>\n",
       "      <th>PromoInterval</th>\n",
       "      <td>4</td>\n",
       "    </tr>\n",
       "    <tr>\n",
       "      <th>CompetitionOpenSinceYear</th>\n",
       "      <td>21</td>\n",
       "    </tr>\n",
       "    <tr>\n",
       "      <th>Promo2SinceYear</th>\n",
       "      <td>8</td>\n",
       "    </tr>\n",
       "    <tr>\n",
       "      <th>State</th>\n",
       "      <td>12</td>\n",
       "    </tr>\n",
       "    <tr>\n",
       "      <th>Week</th>\n",
       "      <td>52</td>\n",
       "    </tr>\n",
       "    <tr>\n",
       "      <th>Events</th>\n",
       "      <td>22</td>\n",
       "    </tr>\n",
       "    <tr>\n",
       "      <th>Promo_fw</th>\n",
       "      <td>6</td>\n",
       "    </tr>\n",
       "    <tr>\n",
       "      <th>Promo_bw</th>\n",
       "      <td>6</td>\n",
       "    </tr>\n",
       "    <tr>\n",
       "      <th>StateHoliday_bool_fw</th>\n",
       "      <td>3</td>\n",
       "    </tr>\n",
       "    <tr>\n",
       "      <th>StateHoliday_bool_bw</th>\n",
       "      <td>3</td>\n",
       "    </tr>\n",
       "    <tr>\n",
       "      <th>SchoolHoliday_fw</th>\n",
       "      <td>8</td>\n",
       "    </tr>\n",
       "    <tr>\n",
       "      <th>SchoolHoliday_bw</th>\n",
       "      <td>8</td>\n",
       "    </tr>\n",
       "  </tbody>\n",
       "</table>\n",
       "</div>"
      ],
      "text/plain": [
       "                         uniques\n",
       "Store                       1115\n",
       "DayOfWeek                      7\n",
       "Year                           3\n",
       "Month                         12\n",
       "Day                           31\n",
       "StateHoliday                   4\n",
       "CompetitionMonthsOpen         25\n",
       "Promo2Weeks                   26\n",
       "StoreType                      4\n",
       "Assortment                     3\n",
       "PromoInterval                  4\n",
       "CompetitionOpenSinceYear      21\n",
       "Promo2SinceYear                8\n",
       "State                         12\n",
       "Week                          52\n",
       "Events                        22\n",
       "Promo_fw                       6\n",
       "Promo_bw                       6\n",
       "StateHoliday_bool_fw           3\n",
       "StateHoliday_bool_bw           3\n",
       "SchoolHoliday_fw               8\n",
       "SchoolHoliday_bw               8"
      ]
     },
     "execution_count": 21,
     "metadata": {},
     "output_type": "execute_result"
    }
   ],
   "source": [
    "uniques.T"
   ]
  },
  {
   "cell_type": "markdown",
   "metadata": {},
   "source": [
    "# Asignación de dimensión de embeddings"
   ]
  },
  {
   "cell_type": "code",
   "execution_count": 22,
   "metadata": {},
   "outputs": [],
   "source": [
    "cat_var_dict = {'Store': 1115, \n",
    "                'DayOfWeek': 7, \n",
    "                'Year': 5, \n",
    "                'Month': 12, \n",
    "                'Day': 31, \n",
    "                'StateHoliday': 4, \n",
    "                'CompetitionMonthsOpen': 30,\n",
    "                'Promo2Weeks': 1, \n",
    "                'StoreType': 2, \n",
    "                'Assortment': 3, \n",
    "                'PromoInterval': 3,\n",
    "                'CompetitionOpenSinceYear': 4, \n",
    "                'Promo2SinceYear': 4, 'State': 6,\n",
    "                'Week': 52, \n",
    "                'Events': 30, \n",
    "                'Promo_fw': 6,\n",
    "                'Promo_bw': 6,\n",
    "                'StateHoliday_bool_fw': 3,\n",
    "                'StateHoliday_bool_bw': 3, \n",
    "                'SchoolHoliday_fw': 8,\n",
    "                'SchoolHoliday_bw': 8}"
   ]
  },
  {
   "cell_type": "code",
   "execution_count": 23,
   "metadata": {},
   "outputs": [
    {
     "name": "stdout",
     "output_type": "stream",
     "text": [
      "Store 1115 1115 [   0    1    2 ... 1112 1113 1114]\n",
      "Store\n",
      "DayOfWeek 7 7 [0 1 2 3 4 5 6]\n",
      "DayOfWeek\n",
      "Year 5 3 [0 1 2]\n",
      "Year\n",
      "Month 12 12 [ 0  1  2  3  4  5  6  7  8  9 10 11]\n",
      "Month\n",
      "Day 31 31 [ 0  1  2  3  4  5  6  7  8  9 10 11 12 13 14 15 16 17 18 19 20 21 22 23\n",
      " 24 25 26 27 28 29 30]\n",
      "Day\n",
      "StateHoliday 4 4 [0 1 2 3]\n",
      "StateHoliday\n",
      "CompetitionMonthsOpen 30 25 [ 0  1  2  3  4  5  6  7  8  9 10 11 12 13 14 15 16 17 18 19 20 21 22 23\n",
      " 24]\n",
      "CompetitionMonthsOpen\n",
      "Promo2Weeks 1 26 [ 0  1  2  3  4  5  6  7  8  9 10 11 12 13 14 15 16 17 18 19 20 21 22 23\n",
      " 24 25]\n",
      "Promo2Weeks\n",
      "StoreType 2 4 [0 1 2 3]\n",
      "StoreType\n",
      "Assortment 3 3 [0 1 2]\n",
      "Assortment\n",
      "PromoInterval 3 4 [0 1 2 3]\n",
      "PromoInterval\n",
      "CompetitionOpenSinceYear 4 21 [ 0  1  2  3  4  5  6  7  8  9 10 11 12 13 14 15 16 17 18 19 20]\n",
      "CompetitionOpenSinceYear\n",
      "Promo2SinceYear 4 8 [0 1 2 3 4 5 6 7]\n",
      "Promo2SinceYear\n",
      "State 6 12 [ 0  1  2  3  4  5  6  7  8  9 10 11]\n",
      "State\n",
      "Week 52 52 [ 0  1  2  3  4  5  6  7  8  9 10 11 12 13 14 15 16 17 18 19 20 21 22 23\n",
      " 24 25 26 27 28 29 30 31 32 33 34 35 36 37 38 39 40 41 42 43 44 45 46 47\n",
      " 48 49 50 51]\n",
      "Week\n",
      "Events 30 22 [ 0  1  2  3  4  5  6  7  8  9 10 11 12 13 14 15 16 17 18 19 20 21]\n",
      "Events\n",
      "Promo_fw 6 6 [0 1 2 3 4 5]\n",
      "Promo_fw\n",
      "Promo_bw 6 6 [0 1 2 3 4 5]\n",
      "Promo_bw\n",
      "StateHoliday_bool_fw 3 3 [0 1 2]\n",
      "StateHoliday_bool_fw\n",
      "StateHoliday_bool_bw 3 3 [0 1 2]\n",
      "StateHoliday_bool_bw\n",
      "SchoolHoliday_fw 8 8 [0 1 2 3 4 5 6 7]\n",
      "SchoolHoliday_fw\n",
      "SchoolHoliday_bw 8 8 [0 1 2 3 4 5 6 7]\n",
      "SchoolHoliday_bw\n"
     ]
    }
   ],
   "source": [
    "for v in cat_vars:\n",
    "    uniques_ = df[v].unique()\n",
    "    uniques_.sort()\n",
    "    print(v, cat_var_dict[v], len(uniques_), uniques_)\n",
    "    print(v)"
   ]
  },
  {
   "cell_type": "markdown",
   "metadata": {},
   "source": [
    "# Definición de modelo"
   ]
  },
  {
   "cell_type": "code",
   "execution_count": 24,
   "metadata": {},
   "outputs": [],
   "source": [
    "add_customers = True\n",
    "log_output = False\n",
    "output_activation = 'linear'"
   ]
  },
  {
   "cell_type": "code",
   "execution_count": 25,
   "metadata": {},
   "outputs": [],
   "source": [
    "from tensorflow.keras.models import Model\n",
    "from tensorflow.keras.callbacks import ReduceLROnPlateau, EarlyStopping, ModelCheckpoint, TensorBoard\n",
    "from tensorflow.keras.optimizers import Adam\n",
    "from keras.initializers import RandomNormal\n",
    "from tensorflow.keras.layers import Embedding, Input, Flatten, Concatenate, Dense, BatchNormalization, Activation, LeakyReLU, Dropout\n",
    "from tensorflow.keras.regularizers import l2\n"
   ]
  },
  {
   "cell_type": "code",
   "execution_count": 26,
   "metadata": {},
   "outputs": [],
   "source": [
    "def get_cat_vars_model(cat_vars, uniques, cat_var_dict):\n",
    "    cat_vars_embed_outs = []\n",
    "    cat_var_inputs = []\n",
    "    for cat_var in cat_vars:\n",
    "        cat_var_in = Input(shape=(1,), name=f\"{cat_var}_input\")\n",
    "        cat_var_inputs.append(cat_var_in)\n",
    "        embed_out = Embedding(uniques[cat_var][0], cat_var_dict[cat_var], name=f'{cat_var}_Embed')(cat_var_in)\n",
    "        flatten_out = Flatten(name=f\"{cat_var}_flat\")(embed_out)\n",
    "        cat_vars_embed_outs.append(flatten_out)\n",
    "    return cat_var_inputs, cat_vars_embed_outs\n",
    "\n",
    "def get_cont_vars_input(contin_vars, dense_layer=False):\n",
    "    cont_vars_inputs = []\n",
    "    cont_vars_outputs = []\n",
    "    for cont_var in contin_vars:\n",
    "        cont_var_in = Input(shape=(1,), name=f\"{cont_var}_input\")\n",
    "        cont_vars_inputs.append(cont_var_in)\n",
    "        if dense_layer:\n",
    "            cont_var_out = Dense(1, name=f\"{cont_var}_input\", activation = 'linear')(cont_var_in)\n",
    "            cont_vars_outputs.append(cont_var_out)\n",
    "        else:\n",
    "            cont_vars_outputs.append(cont_var_in)\n",
    "    return cont_vars_inputs, cont_vars_outputs"
   ]
  },
  {
   "cell_type": "code",
   "execution_count": 27,
   "metadata": {},
   "outputs": [],
   "source": [
    "add_customers = True \n",
    "log_output = True\n",
    "out_put_activation = 'linear'\n",
    "#-------------------------------------\n",
    "cat_var_inputs, cat_vars_embed_outs = get_cat_vars_model(cat_vars, uniques, cat_var_dict)\n",
    "cont_vars_inputs,  cont_vars_outs= get_cont_vars_input(contin_vars)"
   ]
  },
  {
   "cell_type": "code",
   "execution_count": 28,
   "metadata": {},
   "outputs": [],
   "source": [
    "# Descomentar para ver resultados\n",
    "# cat_vars_embed_outs\n",
    "# cat_var_inputs\n",
    "# cont_vars_inputs\n",
    "# cont_vars_outs"
   ]
  },
  {
   "cell_type": "code",
   "execution_count": 30,
   "metadata": {},
   "outputs": [],
   "source": [
    "first_hidden_units = 1500\n",
    "second_hidden_units = 800\n",
    "l2_lambda = 1e-4\n",
    "initializer = RandomNormal(mean = 0.0,stddev = 0.01)\n",
    "\n",
    "merged = Concatenate(name='All_Concatenate')(cat_vars_embed_outs + cont_vars_inputs)\n",
    "x = Dense(first_hidden_units, kernel_initializer=initializer, kernel_regularizer=l2(l2_lambda))(merged)\n",
    "#x = BatchNormalization()(x)\n",
    "x = Activation('relu')(x)\n",
    "# x = LeakyReLU()(x)\n",
    "x = Dense(second_hidden_units, kernel_initializer=initializer, kernel_regularizer=l2(l2_lambda))(x)\n",
    "#x = BatchNormalization()(x)\n",
    "x = Dense(2000, kernel_initializer=initializer, kernel_regularizer=l2(l2_lambda))(x)\n",
    "#\n",
    "x = Activation('relu')(x)\n",
    "# x = LeakyReLU()(x)\n",
    "\n",
    "output_1 = Dense(1, name='Sales', activation=output_activation)(x)\n",
    "output_2 = Dense(1, name='Customers', activation=output_activation)(x)"
   ]
  },
  {
   "cell_type": "code",
   "execution_count": 31,
   "metadata": {},
   "outputs": [],
   "source": [
    "if add_customers:\n",
    "    model = Model(cat_var_inputs + cont_vars_inputs, [output_1, output_2])\n",
    "else: \n",
    "    model = Model(cat_var_inputs + cont_vars_inputs, [output_1])"
   ]
  },
  {
   "cell_type": "code",
   "execution_count": 32,
   "metadata": {},
   "outputs": [
    {
     "name": "stdout",
     "output_type": "stream",
     "text": [
      "Model: \"model\"\n",
      "__________________________________________________________________________________________________\n",
      " Layer (type)                Output Shape                 Param #   Connected to                  \n",
      "==================================================================================================\n",
      " Store_input (InputLayer)    [(None, 1)]                  0         []                            \n",
      "                                                                                                  \n",
      " DayOfWeek_input (InputLaye  [(None, 1)]                  0         []                            \n",
      " r)                                                                                               \n",
      "                                                                                                  \n",
      " Year_input (InputLayer)     [(None, 1)]                  0         []                            \n",
      "                                                                                                  \n",
      " Month_input (InputLayer)    [(None, 1)]                  0         []                            \n",
      "                                                                                                  \n",
      " Day_input (InputLayer)      [(None, 1)]                  0         []                            \n",
      "                                                                                                  \n",
      " StateHoliday_input (InputL  [(None, 1)]                  0         []                            \n",
      " ayer)                                                                                            \n",
      "                                                                                                  \n",
      " CompetitionMonthsOpen_inpu  [(None, 1)]                  0         []                            \n",
      " t (InputLayer)                                                                                   \n",
      "                                                                                                  \n",
      " Promo2Weeks_input (InputLa  [(None, 1)]                  0         []                            \n",
      " yer)                                                                                             \n",
      "                                                                                                  \n",
      " StoreType_input (InputLaye  [(None, 1)]                  0         []                            \n",
      " r)                                                                                               \n",
      "                                                                                                  \n",
      " Assortment_input (InputLay  [(None, 1)]                  0         []                            \n",
      " er)                                                                                              \n",
      "                                                                                                  \n",
      " PromoInterval_input (Input  [(None, 1)]                  0         []                            \n",
      " Layer)                                                                                           \n",
      "                                                                                                  \n",
      " CompetitionOpenSinceYear_i  [(None, 1)]                  0         []                            \n",
      " nput (InputLayer)                                                                                \n",
      "                                                                                                  \n",
      " Promo2SinceYear_input (Inp  [(None, 1)]                  0         []                            \n",
      " utLayer)                                                                                         \n",
      "                                                                                                  \n",
      " State_input (InputLayer)    [(None, 1)]                  0         []                            \n",
      "                                                                                                  \n",
      " Week_input (InputLayer)     [(None, 1)]                  0         []                            \n",
      "                                                                                                  \n",
      " Events_input (InputLayer)   [(None, 1)]                  0         []                            \n",
      "                                                                                                  \n",
      " Promo_fw_input (InputLayer  [(None, 1)]                  0         []                            \n",
      " )                                                                                                \n",
      "                                                                                                  \n",
      " Promo_bw_input (InputLayer  [(None, 1)]                  0         []                            \n",
      " )                                                                                                \n",
      "                                                                                                  \n",
      " StateHoliday_bool_fw_input  [(None, 1)]                  0         []                            \n",
      "  (InputLayer)                                                                                    \n",
      "                                                                                                  \n",
      " StateHoliday_bool_bw_input  [(None, 1)]                  0         []                            \n",
      "  (InputLayer)                                                                                    \n",
      "                                                                                                  \n",
      " SchoolHoliday_fw_input (In  [(None, 1)]                  0         []                            \n",
      " putLayer)                                                                                        \n",
      "                                                                                                  \n",
      " SchoolHoliday_bw_input (In  [(None, 1)]                  0         []                            \n",
      " putLayer)                                                                                        \n",
      "                                                                                                  \n",
      " Store_Embed (Embedding)     (None, 1, 1115)              1243225   ['Store_input[0][0]']         \n",
      "                                                                                                  \n",
      " DayOfWeek_Embed (Embedding  (None, 1, 7)                 49        ['DayOfWeek_input[0][0]']     \n",
      " )                                                                                                \n",
      "                                                                                                  \n",
      " Year_Embed (Embedding)      (None, 1, 5)                 15        ['Year_input[0][0]']          \n",
      "                                                                                                  \n",
      " Month_Embed (Embedding)     (None, 1, 12)                144       ['Month_input[0][0]']         \n",
      "                                                                                                  \n",
      " Day_Embed (Embedding)       (None, 1, 31)                961       ['Day_input[0][0]']           \n",
      "                                                                                                  \n",
      " StateHoliday_Embed (Embedd  (None, 1, 4)                 16        ['StateHoliday_input[0][0]']  \n",
      " ing)                                                                                             \n",
      "                                                                                                  \n",
      " CompetitionMonthsOpen_Embe  (None, 1, 30)                750       ['CompetitionMonthsOpen_input[\n",
      " d (Embedding)                                                      0][0]']                       \n",
      "                                                                                                  \n",
      " Promo2Weeks_Embed (Embeddi  (None, 1, 1)                 26        ['Promo2Weeks_input[0][0]']   \n",
      " ng)                                                                                              \n",
      "                                                                                                  \n",
      " StoreType_Embed (Embedding  (None, 1, 2)                 8         ['StoreType_input[0][0]']     \n"
     ]
    },
    {
     "name": "stdout",
     "output_type": "stream",
     "text": [
      " )                                                                                                \n",
      "                                                                                                  \n",
      " Assortment_Embed (Embeddin  (None, 1, 3)                 9         ['Assortment_input[0][0]']    \n",
      " g)                                                                                               \n",
      "                                                                                                  \n",
      " PromoInterval_Embed (Embed  (None, 1, 3)                 12        ['PromoInterval_input[0][0]'] \n",
      " ding)                                                                                            \n",
      "                                                                                                  \n",
      " CompetitionOpenSinceYear_E  (None, 1, 4)                 84        ['CompetitionOpenSinceYear_inp\n",
      " mbed (Embedding)                                                   ut[0][0]']                    \n",
      "                                                                                                  \n",
      " Promo2SinceYear_Embed (Emb  (None, 1, 4)                 32        ['Promo2SinceYear_input[0][0]'\n",
      " edding)                                                            ]                             \n",
      "                                                                                                  \n",
      " State_Embed (Embedding)     (None, 1, 6)                 72        ['State_input[0][0]']         \n",
      "                                                                                                  \n",
      " Week_Embed (Embedding)      (None, 1, 52)                2704      ['Week_input[0][0]']          \n",
      "                                                                                                  \n",
      " Events_Embed (Embedding)    (None, 1, 30)                660       ['Events_input[0][0]']        \n",
      "                                                                                                  \n",
      " Promo_fw_Embed (Embedding)  (None, 1, 6)                 36        ['Promo_fw_input[0][0]']      \n",
      "                                                                                                  \n",
      " Promo_bw_Embed (Embedding)  (None, 1, 6)                 36        ['Promo_bw_input[0][0]']      \n",
      "                                                                                                  \n",
      " StateHoliday_bool_fw_Embed  (None, 1, 3)                 9         ['StateHoliday_bool_fw_input[0\n",
      "  (Embedding)                                                       ][0]']                        \n",
      "                                                                                                  \n",
      " StateHoliday_bool_bw_Embed  (None, 1, 3)                 9         ['StateHoliday_bool_bw_input[0\n",
      "  (Embedding)                                                       ][0]']                        \n",
      "                                                                                                  \n",
      " SchoolHoliday_fw_Embed (Em  (None, 1, 8)                 64        ['SchoolHoliday_fw_input[0][0]\n",
      " bedding)                                                           ']                            \n",
      "                                                                                                  \n",
      " SchoolHoliday_bw_Embed (Em  (None, 1, 8)                 64        ['SchoolHoliday_bw_input[0][0]\n",
      " bedding)                                                           ']                            \n",
      "                                                                                                  \n",
      " Store_flat (Flatten)        (None, 1115)                 0         ['Store_Embed[0][0]']         \n",
      "                                                                                                  \n",
      " DayOfWeek_flat (Flatten)    (None, 7)                    0         ['DayOfWeek_Embed[0][0]']     \n",
      "                                                                                                  \n",
      " Year_flat (Flatten)         (None, 5)                    0         ['Year_Embed[0][0]']          \n",
      "                                                                                                  \n",
      " Month_flat (Flatten)        (None, 12)                   0         ['Month_Embed[0][0]']         \n",
      "                                                                                                  \n",
      " Day_flat (Flatten)          (None, 31)                   0         ['Day_Embed[0][0]']           \n",
      "                                                                                                  \n",
      " StateHoliday_flat (Flatten  (None, 4)                    0         ['StateHoliday_Embed[0][0]']  \n",
      " )                                                                                                \n",
      "                                                                                                  \n",
      " CompetitionMonthsOpen_flat  (None, 30)                   0         ['CompetitionMonthsOpen_Embed[\n",
      "  (Flatten)                                                         0][0]']                       \n",
      "                                                                                                  \n",
      " Promo2Weeks_flat (Flatten)  (None, 1)                    0         ['Promo2Weeks_Embed[0][0]']   \n",
      "                                                                                                  \n",
      " StoreType_flat (Flatten)    (None, 2)                    0         ['StoreType_Embed[0][0]']     \n",
      "                                                                                                  \n",
      " Assortment_flat (Flatten)   (None, 3)                    0         ['Assortment_Embed[0][0]']    \n",
      "                                                                                                  \n",
      " PromoInterval_flat (Flatte  (None, 3)                    0         ['PromoInterval_Embed[0][0]'] \n",
      " n)                                                                                               \n",
      "                                                                                                  \n",
      " CompetitionOpenSinceYear_f  (None, 4)                    0         ['CompetitionOpenSinceYear_Emb\n",
      " lat (Flatten)                                                      ed[0][0]']                    \n",
      "                                                                                                  \n",
      " Promo2SinceYear_flat (Flat  (None, 4)                    0         ['Promo2SinceYear_Embed[0][0]'\n",
      " ten)                                                               ]                             \n",
      "                                                                                                  \n",
      " State_flat (Flatten)        (None, 6)                    0         ['State_Embed[0][0]']         \n",
      "                                                                                                  \n",
      " Week_flat (Flatten)         (None, 52)                   0         ['Week_Embed[0][0]']          \n",
      "                                                                                                  \n",
      " Events_flat (Flatten)       (None, 30)                   0         ['Events_Embed[0][0]']        \n",
      "                                                                                                  \n",
      " Promo_fw_flat (Flatten)     (None, 6)                    0         ['Promo_fw_Embed[0][0]']      \n",
      "                                                                                                  \n",
      " Promo_bw_flat (Flatten)     (None, 6)                    0         ['Promo_bw_Embed[0][0]']      \n",
      "                                                                                                  \n",
      " StateHoliday_bool_fw_flat   (None, 3)                    0         ['StateHoliday_bool_fw_Embed[0\n",
      " (Flatten)                                                          ][0]']                        \n",
      "                                                                                                  \n",
      " StateHoliday_bool_bw_flat   (None, 3)                    0         ['StateHoliday_bool_bw_Embed[0\n",
      " (Flatten)                                                          ][0]']                        \n",
      "                                                                                                  \n"
     ]
    },
    {
     "name": "stdout",
     "output_type": "stream",
     "text": [
      " SchoolHoliday_fw_flat (Fla  (None, 8)                    0         ['SchoolHoliday_fw_Embed[0][0]\n",
      " tten)                                                              ']                            \n",
      "                                                                                                  \n",
      " SchoolHoliday_bw_flat (Fla  (None, 8)                    0         ['SchoolHoliday_bw_Embed[0][0]\n",
      " tten)                                                              ']                            \n",
      "                                                                                                  \n",
      " BeforeStateHoliday_bool_in  [(None, 1)]                  0         []                            \n",
      " put (InputLayer)                                                                                 \n",
      "                                                                                                  \n",
      " Max_TemperatureC_input (In  [(None, 1)]                  0         []                            \n",
      " putLayer)                                                                                        \n",
      "                                                                                                  \n",
      " All_Concatenate (Concatena  (None, 1345)                 0         ['Store_flat[0][0]',          \n",
      " te)                                                                 'DayOfWeek_flat[0][0]',      \n",
      "                                                                     'Year_flat[0][0]',           \n",
      "                                                                     'Month_flat[0][0]',          \n",
      "                                                                     'Day_flat[0][0]',            \n",
      "                                                                     'StateHoliday_flat[0][0]',   \n",
      "                                                                     'CompetitionMonthsOpen_flat[0\n",
      "                                                                    ][0]',                        \n",
      "                                                                     'Promo2Weeks_flat[0][0]',    \n",
      "                                                                     'StoreType_flat[0][0]',      \n",
      "                                                                     'Assortment_flat[0][0]',     \n",
      "                                                                     'PromoInterval_flat[0][0]',  \n",
      "                                                                     'CompetitionOpenSinceYear_fla\n",
      "                                                                    t[0][0]',                     \n",
      "                                                                     'Promo2SinceYear_flat[0][0]',\n",
      "                                                                     'State_flat[0][0]',          \n",
      "                                                                     'Week_flat[0][0]',           \n",
      "                                                                     'Events_flat[0][0]',         \n",
      "                                                                     'Promo_fw_flat[0][0]',       \n",
      "                                                                     'Promo_bw_flat[0][0]',       \n",
      "                                                                     'StateHoliday_bool_fw_flat[0]\n",
      "                                                                    [0]',                         \n",
      "                                                                     'StateHoliday_bool_bw_flat[0]\n",
      "                                                                    [0]',                         \n",
      "                                                                     'SchoolHoliday_fw_flat[0][0]'\n",
      "                                                                    , 'SchoolHoliday_bw_flat[0][0]\n",
      "                                                                    ',                            \n",
      "                                                                     'BeforeStateHoliday_bool_inpu\n",
      "                                                                    t[0][0]',                     \n",
      "                                                                     'Max_TemperatureC_input[0][0]\n",
      "                                                                    ']                            \n",
      "                                                                                                  \n",
      " dense_2 (Dense)             (None, 1500)                 2019000   ['All_Concatenate[0][0]']     \n",
      "                                                                                                  \n",
      " activation_2 (Activation)   (None, 1500)                 0         ['dense_2[0][0]']             \n",
      "                                                                                                  \n",
      " dense_3 (Dense)             (None, 800)                  1200800   ['activation_2[0][0]']        \n",
      "                                                                                                  \n",
      " dense_4 (Dense)             (None, 2000)                 1602000   ['dense_3[0][0]']             \n",
      "                                                                                                  \n",
      " activation_3 (Activation)   (None, 2000)                 0         ['dense_4[0][0]']             \n",
      "                                                                                                  \n",
      " Sales (Dense)               (None, 1)                    2001      ['activation_3[0][0]']        \n",
      "                                                                                                  \n",
      " Customers (Dense)           (None, 1)                    2001      ['activation_3[0][0]']        \n",
      "                                                                                                  \n",
      "==================================================================================================\n",
      "Total params: 6074787 (23.17 MB)\n",
      "Trainable params: 6074787 (23.17 MB)\n",
      "Non-trainable params: 0 (0.00 Byte)\n",
      "__________________________________________________________________________________________________\n"
     ]
    }
   ],
   "source": [
    "# Descomentar para ver\n",
    "model.summary()"
   ]
  },
  {
   "cell_type": "code",
   "execution_count": 33,
   "metadata": {},
   "outputs": [],
   "source": [
    "model.save_weights('initial_weights.hdf5')"
   ]
  },
  {
   "cell_type": "code",
   "execution_count": 34,
   "metadata": {},
   "outputs": [
    {
     "name": "stdout",
     "output_type": "stream",
     "text": [
      "Cantidad en val: 30188, porcentaje: 0.9642465458145908\n"
     ]
    }
   ],
   "source": [
    "df_train = df[df.Date < datetime.datetime(2015, 7, 1)]  \n",
    "df_val = df[df.Date >= datetime.datetime(2015, 7, 1)]\n",
    "print(f'Cantidad en val: {len(df_val)}, porcentaje: {len(df_train)/(len(df_train) + len(df_val))}')"
   ]
  },
  {
   "cell_type": "code",
   "execution_count": 35,
   "metadata": {},
   "outputs": [],
   "source": [
    "from matplotlib import pyplot as plt\n",
    "# plt.figure(figsize=(20,5))\n",
    "# plt.plot((df_train[df_train['Store']==1]['Sales'].values - df_train[df_train['Store']==1]['Sales'].mean())/df_train[df_train['Store']==1]['Sales'].std())\n",
    "# plt.show()\n",
    "# plt.figure(figsize=(20,5))\n",
    "# plt.plot(np.log(df_train[df_train['Store']==1]['Sales'].values)/np.max(np.log(df_train[df_train['Store']==1]['Sales'].values)))\n",
    "# plt.show()"
   ]
  },
  {
   "cell_type": "code",
   "execution_count": 36,
   "metadata": {},
   "outputs": [],
   "source": [
    "stores_mean = {}\n",
    "for store, g_df in df_train.groupby('Store'):\n",
    "    stores_mean[store] = g_df[g_df['Sales'] > 0]['Sales'].mean()"
   ]
  },
  {
   "cell_type": "code",
   "execution_count": 37,
   "metadata": {},
   "outputs": [
    {
     "name": "stderr",
     "output_type": "stream",
     "text": [
      "C:\\Users\\Alex van Tol\\anaconda3\\lib\\site-packages\\pandas\\core\\indexing.py:1667: SettingWithCopyWarning: \n",
      "A value is trying to be set on a copy of a slice from a DataFrame.\n",
      "Try using .loc[row_indexer,col_indexer] = value instead\n",
      "\n",
      "See the caveats in the documentation: https://pandas.pydata.org/pandas-docs/stable/user_guide/indexing.html#returning-a-view-versus-a-copy\n",
      "  self.obj[key] = value\n"
     ]
    }
   ],
   "source": [
    "df_train.loc[:, 'mean_by_store'] = df_train['Store'].apply(stores_mean.get)\n",
    "df_val.loc[:, 'mean_by_store'] = df_val['Store'].apply(stores_mean.get)\n",
    "\n",
    "df_train.loc[:, 'Sales_store'] = df_train['Sales'] - df_train['mean_by_store']\n",
    "df_val.loc[:, 'Sales_store'] = df_val['Sales'] - df_val['mean_by_store']"
   ]
  },
  {
   "cell_type": "code",
   "execution_count": 38,
   "metadata": {},
   "outputs": [],
   "source": [
    "from tensorflow.keras import backend as K"
   ]
  },
  {
   "cell_type": "code",
   "execution_count": 39,
   "metadata": {},
   "outputs": [],
   "source": [
    "def rmspe(y_true, y_pred):\n",
    "    return K.sqrt(K.mean(K.square((y_true - y_pred)/y_true)))"
   ]
  },
  {
   "cell_type": "code",
   "execution_count": 40,
   "metadata": {},
   "outputs": [],
   "source": [
    "def get_metric(df, sales_):\n",
    "    return np.sqrt((((df['Sales'] - sales_)/df['Sales'])**2).mean())"
   ]
  },
  {
   "cell_type": "code",
   "execution_count": 41,
   "metadata": {},
   "outputs": [
    {
     "data": {
      "text/plain": [
       "0.30717460853388645"
      ]
     },
     "execution_count": 41,
     "metadata": {},
     "output_type": "execute_result"
    }
   ],
   "source": [
    "get_metric(df_val, df_val['mean_by_store'])"
   ]
  },
  {
   "cell_type": "code",
   "execution_count": 42,
   "metadata": {},
   "outputs": [],
   "source": [
    "all_vars = cat_vars + contin_vars\n",
    "X_train = np.hsplit(df_train[all_vars].values, len(all_vars))\n",
    "X_val = np.hsplit(df_val[all_vars].values, len(all_vars))\n",
    "X_test = np.hsplit(df_test[all_vars].values, len(all_vars))"
   ]
  },
  {
   "cell_type": "code",
   "execution_count": 43,
   "metadata": {},
   "outputs": [],
   "source": [
    "if add_customers:\n",
    "    y_out_columns = ['Sales', 'Customers']\n",
    "else:\n",
    "    y_out_columns = ['Sales_store']\n",
    "    \n",
    "if log_output:\n",
    "    # Escala logaritmica\n",
    "    max_log_y = np.max(np.log(df[y_out_columns])).values\n",
    "    y_train = np.log(df_train[y_out_columns].values)/max_log_y\n",
    "    y_val = np.log(df_val[y_out_columns].values)/max_log_y\n",
    "else:\n",
    "    # Normalización\n",
    "    y_mean = df_train[y_out_columns].mean().values\n",
    "    y_std = df_train[y_out_columns].std().values\n",
    "    y_train = (df_train[y_out_columns].values - y_mean)/y_std\n",
    "    y_val = (df_val[y_out_columns].values - y_mean)/y_std\n",
    "    y_max = df_train[y_out_columns].max().values\n",
    "    y_train = df_train[y_out_columns].values/y_max\n",
    "    y_val = df_val[y_out_columns].values/y_max\n",
    "y_train = np.hsplit(y_train, y_train.shape[1])\n",
    "y_val = np.hsplit(y_val, y_val.shape[1])"
   ]
  },
  {
   "cell_type": "code",
   "execution_count": 44,
   "metadata": {},
   "outputs": [
    {
     "name": "stderr",
     "output_type": "stream",
     "text": [
      "WARNING:absl:`lr` is deprecated in Keras optimizer, please use `learning_rate` or use the legacy optimizer, e.g.,tf.keras.optimizers.legacy.Adam.\n"
     ]
    }
   ],
   "source": [
    "lr = 0.001\n",
    "model.compile(optimizer=Adam(lr=lr), metrics=['mse', rmspe], loss='mse')"
   ]
  },
  {
   "cell_type": "code",
   "execution_count": 45,
   "metadata": {},
   "outputs": [],
   "source": [
    "if add_customers:\n",
    "    checkpoint = ModelCheckpoint('bestmodel.hdf5', monitor='val_Sales_mse', verbose=1, save_best_only=True)\n",
    "else:\n",
    "    checkpoint = ModelCheckpoint('bestmodel.hdf5', monitor='val_loss', verbose=1, save_best_only=True)"
   ]
  },
  {
   "cell_type": "code",
   "execution_count": 46,
   "metadata": {},
   "outputs": [],
   "source": [
    "rlrop = ReduceLROnPlateau(\n",
    "    monitor = \"val_Sales_mse\",\n",
    "    factor = 0.5,\n",
    "    patience = 3,\n",
    "    verbose = 1,\n",
    "    min_lr = 1e-5\n",
    ")"
   ]
  },
  {
   "cell_type": "code",
   "execution_count": 49,
   "metadata": {},
   "outputs": [
    {
     "name": "stdout",
     "output_type": "stream",
     "text": [
      "Epoch 1/5\n",
      "\n",
      "Epoch 1: val_Sales_mse did not improve from 0.00020\n",
      "3181/3181 - 315s - loss: 5.5450e-04 - Sales_loss: 1.8939e-04 - Customers_loss: 1.9974e-04 - Sales_mse: 1.8939e-04 - Sales_rmspe: 0.0170 - Customers_mse: 1.9974e-04 - Customers_rmspe: 0.0198 - val_loss: 5.6583e-04 - val_Sales_loss: 2.1657e-04 - val_Customers_loss: 2.0243e-04 - val_Sales_mse: 2.1657e-04 - val_Sales_rmspe: 0.0176 - val_Customers_mse: 2.0243e-04 - val_Customers_rmspe: 0.0193 - lr: 0.0010 - 315s/epoch - 99ms/step\n",
      "Epoch 2/5\n",
      "\n",
      "Epoch 2: val_Sales_mse improved from 0.00020 to 0.00020, saving model to bestmodel.hdf5\n",
      "3181/3181 - 321s - loss: 6.2941e-04 - Sales_loss: 2.0790e-04 - Customers_loss: 2.5828e-04 - Sales_mse: 2.0790e-04 - Sales_rmspe: 0.0171 - Customers_mse: 2.5828e-04 - Customers_rmspe: 0.0201 - val_loss: 5.4615e-04 - val_Sales_loss: 1.9822e-04 - val_Customers_loss: 2.1591e-04 - val_Sales_mse: 1.9822e-04 - val_Sales_rmspe: 0.0172 - val_Customers_mse: 2.1591e-04 - val_Customers_rmspe: 0.0200 - lr: 0.0010 - 321s/epoch - 101ms/step\n",
      "Epoch 3/5\n",
      "\n",
      "Epoch 3: val_Sales_mse improved from 0.00020 to 0.00017, saving model to bestmodel.hdf5\n",
      "3181/3181 - 320s - loss: 4.6480e-04 - Sales_loss: 1.6827e-04 - Customers_loss: 1.7440e-04 - Sales_mse: 1.6827e-04 - Sales_rmspe: 0.0160 - Customers_mse: 1.7440e-04 - Customers_rmspe: 0.0185 - val_loss: 4.6704e-04 - val_Sales_loss: 1.6820e-04 - val_Customers_loss: 1.8377e-04 - val_Sales_mse: 1.6820e-04 - val_Sales_rmspe: 0.0157 - val_Customers_mse: 1.8377e-04 - val_Customers_rmspe: 0.0184 - lr: 0.0010 - 320s/epoch - 101ms/step\n",
      "Epoch 4/5\n",
      "\n",
      "Epoch 4: ReduceLROnPlateau reducing learning rate to 0.0005000000237487257.\n",
      "\n",
      "Epoch 4: val_Sales_mse did not improve from 0.00017\n",
      "3181/3181 - 313s - loss: 0.0010 - Sales_loss: 3.6900e-04 - Customers_loss: 3.9589e-04 - Sales_mse: 3.6900e-04 - Sales_rmspe: 0.0191 - Customers_mse: 3.9589e-04 - Customers_rmspe: 0.0220 - val_loss: 6.7780e-04 - val_Sales_loss: 2.1321e-04 - val_Customers_loss: 2.7874e-04 - val_Sales_mse: 2.1321e-04 - val_Sales_rmspe: 0.0176 - val_Customers_mse: 2.7874e-04 - val_Customers_rmspe: 0.0225 - lr: 0.0010 - 313s/epoch - 98ms/step\n",
      "Epoch 5/5\n",
      "\n",
      "Epoch 5: val_Sales_mse improved from 0.00017 to 0.00017, saving model to bestmodel.hdf5\n",
      "3181/3181 - 303s - loss: 5.1945e-04 - Sales_loss: 1.8939e-04 - Customers_loss: 1.8912e-04 - Sales_mse: 1.8939e-04 - Sales_rmspe: 0.0170 - Customers_mse: 1.8912e-04 - Customers_rmspe: 0.0192 - val_loss: 4.6553e-04 - val_Sales_loss: 1.6654e-04 - val_Customers_loss: 1.7597e-04 - val_Sales_mse: 1.6654e-04 - val_Sales_rmspe: 0.0155 - val_Customers_mse: 1.7597e-04 - val_Customers_rmspe: 0.0180 - lr: 5.0000e-04 - 303s/epoch - 95ms/step\n"
     ]
    }
   ],
   "source": [
    "epochs = 5\n",
    "batch_size = 256\n",
    "history = model.fit(X_train, y_train, validation_data=(X_val, y_val),  epochs=epochs, batch_size=batch_size, callbacks=[rlrop,checkpoint], verbose=2)"
   ]
  },
  {
   "cell_type": "code",
   "execution_count": 50,
   "metadata": {},
   "outputs": [
    {
     "data": {
      "image/png": "[encoded data removed]",
      "text/plain": [
       "<Figure size 432x288 with 1 Axes>"
      ]
     },
     "metadata": {
      "needs_background": "light"
     },
     "output_type": "display_data"
    },
    {
     "data": {
      "text/plain": [
       "[<matplotlib.lines.Line2D at 0x1bc1a9cf1c0>]"
      ]
     },
     "execution_count": 50,
     "metadata": {},
     "output_type": "execute_result"
    },
    {
     "data": {
      "image/png": "[encoded data removed]",
      "text/plain": [
       "<Figure size 432x288 with 1 Axes>"
      ]
     },
     "metadata": {
      "needs_background": "light"
     },
     "output_type": "display_data"
    }
   ],
   "source": [
    "plt.plot(history.history['val_loss'])\n",
    "#plt.plot(history.history['val_Customers_mse'])\n",
    "plt.plot(history.history['val_Sales_mse'])\n",
    "plt.show()\n",
    "plt.plot(history.history['loss'])\n",
    "#plt.plot(history.history['Customers_mse'])\n",
    "# plt.plot(history.history['Sales_mse'])"
   ]
  },
  {
   "cell_type": "markdown",
   "metadata": {},
   "source": [
    "# Métrica"
   ]
  },
  {
   "cell_type": "markdown",
   "metadata": {},
   "source": [
    "$$\n",
    "\\textrm{RMSE} = \\sqrt{\\frac{1}{n} \\sum_{i=1}^{n} \\left(\\frac{\\hat{y}_i - y_i}{y_i}\\right)^2}\n",
    "$$"
   ]
  },
  {
   "cell_type": "code",
   "execution_count": 51,
   "metadata": {},
   "outputs": [
    {
     "name": "stdout",
     "output_type": "stream",
     "text": [
      "944/944 [==============================] - 8s 8ms/step - loss: 4.6553e-04 - Sales_loss: 1.6654e-04 - Customers_loss: 1.7597e-04 - Sales_mse: 1.6654e-04 - Sales_rmspe: 0.0152 - Customers_mse: 1.7597e-04 - Customers_rmspe: 0.0176\n"
     ]
    },
    {
     "data": {
      "text/plain": [
       "[0.00046553072752431035,\n",
       " 0.000166540194186382,\n",
       " 0.00017597344412934035,\n",
       " 0.000166540194186382,\n",
       " 0.015213917940855026,\n",
       " 0.00017597344412934035,\n",
       " 0.017577359452843666]"
      ]
     },
     "execution_count": 51,
     "metadata": {},
     "output_type": "execute_result"
    }
   ],
   "source": [
    "model.evaluate(X_val, y_val)"
   ]
  },
  {
   "cell_type": "code",
   "execution_count": 52,
   "metadata": {},
   "outputs": [
    {
     "name": "stdout",
     "output_type": "stream",
     "text": [
      "944/944 [==============================] - 8s 8ms/step - loss: 4.6553e-04 - Sales_loss: 1.6654e-04 - Customers_loss: 1.7597e-04 - Sales_mse: 1.6654e-04 - Sales_rmspe: 0.0152 - Customers_mse: 1.7597e-04 - Customers_rmspe: 0.0176\n"
     ]
    },
    {
     "data": {
      "text/plain": [
       "[0.00046553072752431035,\n",
       " 0.000166540194186382,\n",
       " 0.00017597344412934035,\n",
       " 0.000166540194186382,\n",
       " 0.015213917940855026,\n",
       " 0.00017597344412934035,\n",
       " 0.017577359452843666]"
      ]
     },
     "execution_count": 52,
     "metadata": {},
     "output_type": "execute_result"
    }
   ],
   "source": [
    "model.load_weights('bestmodel.hdf5')\n",
    "model.evaluate(X_val, y_val)"
   ]
  },
  {
   "cell_type": "code",
   "execution_count": 53,
   "metadata": {},
   "outputs": [],
   "source": [
    "# model.load_weights('bestmodel.hdf5')\n",
    "# model.evaluate(X_val, y_val)\n",
    "# 30188/30188 [==============================] - 5s 172us/step\n",
    "# [0.12197033089921382,\n",
    "#  0.07211007360268763,\n",
    "#  0.037183713050426136,\n",
    "#  0.07211007360268763,\n",
    "#  0.037183713050426136]\n",
    "\n",
    "# [0.12932546436786652,\n",
    "#  0.07751645147800446,\n",
    "#  0.039259567856788635,\n",
    "#  0.07751645147800446,\n",
    "#  0.039259567856788635]"
   ]
  },
  {
   "cell_type": "code",
   "execution_count": 54,
   "metadata": {},
   "outputs": [
    {
     "name": "stdout",
     "output_type": "stream",
     "text": [
      "944/944 [==============================] - 7s 7ms/step\n",
      "1284/1284 [==============================] - 10s 8ms/step\n"
     ]
    }
   ],
   "source": [
    "if log_output:\n",
    "    if add_customers:\n",
    "        y_pred = np.exp(model.predict(X_val, verbose=1)[0][:, 0]*max_log_y[0])\n",
    "        y_pred_test = np.exp(model.predict(X_test, verbose=1)[0][:, 0]*max_log_y[0])\n",
    "    else:\n",
    "        y_pred = np.exp(model.predict(X_val, verbose=1)*max_log_y)[:,0]\n",
    "        y_pred_test = np.exp(model.predict(X_test, verbose=1)*max_log_y)[:,0]\n",
    "else:\n",
    "    if add_customers:\n",
    "        y_pred = (model.predict(X_val, verbose=1)[0]*y_std[0] + y_mean[0])[:,0]\n",
    "        y_pred_test = (model.predict(X_test, verbose=1)[0]*y_std[0] + y_mean[0])[:,0]\n",
    "    else:\n",
    "        y_pred = model.predict(X_val, verbose=1)[:,0]*y_std + y_mean\n",
    "        y_pred_test = model.predict(X_test, verbose=1)[:,0]*y_std + y_mean\n",
    "        y_pred = model.predict(X_val, verbose=1)[:,0]*y_max\n",
    "        y_pred_test = model.predict(X_test, verbose=1)[:,0]*y_max\n",
    "y_pred_test[df_test['Open'] == 0] = 0"
   ]
  },
  {
   "cell_type": "code",
   "execution_count": 56,
   "metadata": {},
   "outputs": [
    {
     "data": {
      "text/plain": [
       "0.13821594668728304"
      ]
     },
     "execution_count": 56,
     "metadata": {},
     "output_type": "execute_result"
    }
   ],
   "source": [
    "np.sqrt((((df_val['Sales'].values - y_pred)/df_val['Sales'].values)**2).sum()/len(y_pred))"
   ]
  },
  {
   "cell_type": "code",
   "execution_count": 57,
   "metadata": {},
   "outputs": [
    {
     "data": {
      "text/plain": [
       "array([3730.7488, 5724.1514, 8094.047 , 5143.2314, 5541.571 , 5012.5503,\n",
       "       6793.315 , 6110.6167, 3679.8403, 5025.656 ], dtype=float32)"
      ]
     },
     "execution_count": 57,
     "metadata": {},
     "output_type": "execute_result"
    }
   ],
   "source": [
    "y_pred_test[:10]"
   ]
  },
  {
   "cell_type": "markdown",
   "metadata": {},
   "source": [
    "# Baseline"
   ]
  },
  {
   "cell_type": "code",
   "execution_count": 58,
   "metadata": {},
   "outputs": [],
   "source": [
    "import pandas as pd\n",
    "sample_csv = pd.read_csv('dataset/rossmann/sample_submission.csv')"
   ]
  },
  {
   "cell_type": "code",
   "execution_count": 59,
   "metadata": {},
   "outputs": [],
   "source": [
    "stores_mean = {}\n",
    "for store, g_df in df.groupby('Store'):\n",
    "    stores_mean[store] = g_df[g_df['Sales'] > 0]['Sales'].mean()"
   ]
  },
  {
   "cell_type": "code",
   "execution_count": 60,
   "metadata": {},
   "outputs": [],
   "source": [
    "df_test['Sales'] = df_test['Store'].apply(stores_mean.get)\n",
    "df_test.loc[df_test['Open'] == 0, 'Sales'] = 0"
   ]
  },
  {
   "cell_type": "code",
   "execution_count": 61,
   "metadata": {},
   "outputs": [
    {
     "data": {
      "text/html": [
       "<div>\n",
       "<style scoped>\n",
       "    .dataframe tbody tr th:only-of-type {\n",
       "        vertical-align: middle;\n",
       "    }\n",
       "\n",
       "    .dataframe tbody tr th {\n",
       "        vertical-align: top;\n",
       "    }\n",
       "\n",
       "    .dataframe thead th {\n",
       "        text-align: right;\n",
       "    }\n",
       "</style>\n",
       "<table border=\"1\" class=\"dataframe\">\n",
       "  <thead>\n",
       "    <tr style=\"text-align: right;\">\n",
       "      <th></th>\n",
       "      <th>Store</th>\n",
       "      <th>Sales</th>\n",
       "    </tr>\n",
       "  </thead>\n",
       "  <tbody>\n",
       "    <tr>\n",
       "      <th>0</th>\n",
       "      <td>0</td>\n",
       "      <td>4759.096031</td>\n",
       "    </tr>\n",
       "    <tr>\n",
       "      <th>1</th>\n",
       "      <td>2</td>\n",
       "      <td>6942.568678</td>\n",
       "    </tr>\n",
       "    <tr>\n",
       "      <th>2</th>\n",
       "      <td>6</td>\n",
       "      <td>8817.050891</td>\n",
       "    </tr>\n",
       "    <tr>\n",
       "      <th>3</th>\n",
       "      <td>7</td>\n",
       "      <td>5539.358418</td>\n",
       "    </tr>\n",
       "    <tr>\n",
       "      <th>4</th>\n",
       "      <td>8</td>\n",
       "      <td>6562.337612</td>\n",
       "    </tr>\n",
       "    <tr>\n",
       "      <th>5</th>\n",
       "      <td>9</td>\n",
       "      <td>5568.420918</td>\n",
       "    </tr>\n",
       "    <tr>\n",
       "      <th>6</th>\n",
       "      <td>10</td>\n",
       "      <td>8030.977041</td>\n",
       "    </tr>\n",
       "    <tr>\n",
       "      <th>7</th>\n",
       "      <td>11</td>\n",
       "      <td>7589.598214</td>\n",
       "    </tr>\n",
       "    <tr>\n",
       "      <th>8</th>\n",
       "      <td>12</td>\n",
       "      <td>5034.747182</td>\n",
       "    </tr>\n",
       "    <tr>\n",
       "      <th>9</th>\n",
       "      <td>13</td>\n",
       "      <td>5508.567394</td>\n",
       "    </tr>\n",
       "  </tbody>\n",
       "</table>\n",
       "</div>"
      ],
      "text/plain": [
       "   Store        Sales\n",
       "0      0  4759.096031\n",
       "1      2  6942.568678\n",
       "2      6  8817.050891\n",
       "3      7  5539.358418\n",
       "4      8  6562.337612\n",
       "5      9  5568.420918\n",
       "6     10  8030.977041\n",
       "7     11  7589.598214\n",
       "8     12  5034.747182\n",
       "9     13  5508.567394"
      ]
     },
     "execution_count": 61,
     "metadata": {},
     "output_type": "execute_result"
    }
   ],
   "source": [
    "df_test[['Store', 'Sales']].head(10)"
   ]
  },
  {
   "cell_type": "code",
   "execution_count": 62,
   "metadata": {},
   "outputs": [
    {
     "data": {
      "text/html": [
       "<div>\n",
       "<style scoped>\n",
       "    .dataframe tbody tr th:only-of-type {\n",
       "        vertical-align: middle;\n",
       "    }\n",
       "\n",
       "    .dataframe tbody tr th {\n",
       "        vertical-align: top;\n",
       "    }\n",
       "\n",
       "    .dataframe thead th {\n",
       "        text-align: right;\n",
       "    }\n",
       "</style>\n",
       "<table border=\"1\" class=\"dataframe\">\n",
       "  <thead>\n",
       "    <tr style=\"text-align: right;\">\n",
       "      <th></th>\n",
       "      <th>Store</th>\n",
       "      <th>Sales</th>\n",
       "    </tr>\n",
       "  </thead>\n",
       "  <tbody>\n",
       "    <tr>\n",
       "      <th>543</th>\n",
       "      <td>702</td>\n",
       "      <td>0.0</td>\n",
       "    </tr>\n",
       "    <tr>\n",
       "      <th>676</th>\n",
       "      <td>878</td>\n",
       "      <td>0.0</td>\n",
       "    </tr>\n",
       "    <tr>\n",
       "      <th>840</th>\n",
       "      <td>1096</td>\n",
       "      <td>0.0</td>\n",
       "    </tr>\n",
       "    <tr>\n",
       "      <th>1399</th>\n",
       "      <td>702</td>\n",
       "      <td>0.0</td>\n",
       "    </tr>\n",
       "    <tr>\n",
       "      <th>1532</th>\n",
       "      <td>878</td>\n",
       "      <td>0.0</td>\n",
       "    </tr>\n",
       "  </tbody>\n",
       "</table>\n",
       "</div>"
      ],
      "text/plain": [
       "      Store  Sales\n",
       "543     702    0.0\n",
       "676     878    0.0\n",
       "840    1096    0.0\n",
       "1399    702    0.0\n",
       "1532    878    0.0"
      ]
     },
     "execution_count": 62,
     "metadata": {},
     "output_type": "execute_result"
    }
   ],
   "source": [
    "df_test[df_test['Open'] == 0][['Store', 'Sales']].head()"
   ]
  },
  {
   "cell_type": "code",
   "execution_count": 63,
   "metadata": {},
   "outputs": [],
   "source": [
    "sample_csv['Sales'] = df_test['Sales']"
   ]
  },
  {
   "cell_type": "code",
   "execution_count": 64,
   "metadata": {},
   "outputs": [],
   "source": [
    "#sample_csv.to_csv(f'submision_baseline.csv', index=False) #Baseline is gwn gemiddelde per winkel --> sws hoger dan baseline halen"
   ]
  },
  {
   "cell_type": "code",
   "execution_count": 65,
   "metadata": {},
   "outputs": [
    {
     "data": {
      "text/html": [
       "<div>\n",
       "<style scoped>\n",
       "    .dataframe tbody tr th:only-of-type {\n",
       "        vertical-align: middle;\n",
       "    }\n",
       "\n",
       "    .dataframe tbody tr th {\n",
       "        vertical-align: top;\n",
       "    }\n",
       "\n",
       "    .dataframe thead th {\n",
       "        text-align: right;\n",
       "    }\n",
       "</style>\n",
       "<table border=\"1\" class=\"dataframe\">\n",
       "  <thead>\n",
       "    <tr style=\"text-align: right;\">\n",
       "      <th></th>\n",
       "      <th>Id</th>\n",
       "      <th>Sales</th>\n",
       "    </tr>\n",
       "  </thead>\n",
       "  <tbody>\n",
       "    <tr>\n",
       "      <th>0</th>\n",
       "      <td>1</td>\n",
       "      <td>4759.096031</td>\n",
       "    </tr>\n",
       "    <tr>\n",
       "      <th>1</th>\n",
       "      <td>2</td>\n",
       "      <td>6942.568678</td>\n",
       "    </tr>\n",
       "    <tr>\n",
       "      <th>2</th>\n",
       "      <td>3</td>\n",
       "      <td>8817.050891</td>\n",
       "    </tr>\n",
       "    <tr>\n",
       "      <th>3</th>\n",
       "      <td>4</td>\n",
       "      <td>5539.358418</td>\n",
       "    </tr>\n",
       "    <tr>\n",
       "      <th>4</th>\n",
       "      <td>5</td>\n",
       "      <td>6562.337612</td>\n",
       "    </tr>\n",
       "  </tbody>\n",
       "</table>\n",
       "</div>"
      ],
      "text/plain": [
       "   Id        Sales\n",
       "0   1  4759.096031\n",
       "1   2  6942.568678\n",
       "2   3  8817.050891\n",
       "3   4  5539.358418\n",
       "4   5  6562.337612"
      ]
     },
     "execution_count": 65,
     "metadata": {},
     "output_type": "execute_result"
    }
   ],
   "source": [
    "sample_csv.head()"
   ]
  },
  {
   "cell_type": "markdown",
   "metadata": {},
   "source": [
    "# Sumbit a la competición"
   ]
  },
  {
   "cell_type": "code",
   "execution_count": 66,
   "metadata": {},
   "outputs": [],
   "source": [
    "\n",
    "sample_csv = pd.read_csv('dataset/rossmann/sample_submission.csv')\n",
    "sample_csv['Sales'] = y_pred_test\n",
    "sample_csv.head()\n",
    "\n",
    "sample_csv.to_csv(f'submision_{add_customers}-{log_output}-{output_activation}-{l2_lambda}-{first_hidden_units}-{epochs}-{batch_size}-{lr}.csv', index=False)\n"
   ]
  },
  {
   "cell_type": "markdown",
   "metadata": {},
   "source": [
    "# Analisis de embedings"
   ]
  },
  {
   "cell_type": "code",
   "execution_count": 141,
   "metadata": {},
   "outputs": [],
   "source": [
    "def plot_embed(layer_name, cat_names):\n",
    "    Y = model.get_layer(layer_name).get_weights()[0]\n",
    "    print(Y.shape)\n",
    "    plt.figure(figsize=(8,8))\n",
    "    plt.scatter(-Y[:, 0], -Y[:, 1])\n",
    "    for i, txt in enumerate(cat_names):\n",
    "        plt.annotate(txt, (-Y[i, 0],-Y[i, 1]), xytext = (-5, 8), textcoords = 'offset points')"
   ]
  },
  {
   "cell_type": "code",
   "execution_count": 146,
   "metadata": {},
   "outputs": [
    {
     "name": "stdout",
     "output_type": "stream",
     "text": [
      "(7, 2)\n"
     ]
    },
    {
     "data": {
      "image/png": "[encoded data removed]",
      "text/plain": [
       "<Figure size 576x576 with 1 Axes>"
      ]
     },
     "metadata": {
      "needs_background": "light"
     },
     "output_type": "display_data"
    }
   ],
   "source": [
    "model.load_weights('bestmodel.hdf5')\n",
    "plot_embed('DayOfWeek_Embed', ['Mon', 'Tue', 'Wed', 'Thu', 'Fri', 'Sat','Sun'])"
   ]
  },
  {
   "cell_type": "code",
   "execution_count": 143,
   "metadata": {},
   "outputs": [
    {
     "ename": "ValueError",
     "evalue": "No such layer: Month_Embed. Existing layers are: ['Store_input', 'DayOfWeek_input', 'Store_Embed', 'DayOfWeek_Embed', 'Store_flat', 'DayOfWeek_flat', 'BeforeStateHoliday_bool_input', 'Max_TemperatureC_input', 'All_Concatenate', 'dense_11', 'activation_10', 'dense_12', 'activation_11', 'Sales', 'Customers'].",
     "output_type": "error",
     "traceback": [
      "\u001b[1;31m---------------------------------------------------------------------------\u001b[0m",
      "\u001b[1;31mValueError\u001b[0m                                Traceback (most recent call last)",
      "\u001b[1;32mC:\\Users\\ALEXVA~1\\AppData\\Local\\Temp/ipykernel_20160/1806548021.py\u001b[0m in \u001b[0;36m<module>\u001b[1;34m\u001b[0m\n\u001b[1;32m----> 1\u001b[1;33m \u001b[0mplot_embed\u001b[0m\u001b[1;33m(\u001b[0m\u001b[1;34m'Month_Embed'\u001b[0m\u001b[1;33m,\u001b[0m \u001b[0mlist\u001b[0m\u001b[1;33m(\u001b[0m\u001b[0mrange\u001b[0m\u001b[1;33m(\u001b[0m\u001b[1;36m12\u001b[0m\u001b[1;33m)\u001b[0m\u001b[1;33m)\u001b[0m\u001b[1;33m)\u001b[0m\u001b[1;33m\u001b[0m\u001b[1;33m\u001b[0m\u001b[0m\n\u001b[0m",
      "\u001b[1;32mC:\\Users\\ALEXVA~1\\AppData\\Local\\Temp/ipykernel_20160/3731635270.py\u001b[0m in \u001b[0;36mplot_embed\u001b[1;34m(layer_name, cat_names)\u001b[0m\n\u001b[0;32m      1\u001b[0m \u001b[1;32mdef\u001b[0m \u001b[0mplot_embed\u001b[0m\u001b[1;33m(\u001b[0m\u001b[0mlayer_name\u001b[0m\u001b[1;33m,\u001b[0m \u001b[0mcat_names\u001b[0m\u001b[1;33m)\u001b[0m\u001b[1;33m:\u001b[0m\u001b[1;33m\u001b[0m\u001b[1;33m\u001b[0m\u001b[0m\n\u001b[1;32m----> 2\u001b[1;33m     \u001b[0mY\u001b[0m \u001b[1;33m=\u001b[0m \u001b[0mmodel\u001b[0m\u001b[1;33m.\u001b[0m\u001b[0mget_layer\u001b[0m\u001b[1;33m(\u001b[0m\u001b[0mlayer_name\u001b[0m\u001b[1;33m)\u001b[0m\u001b[1;33m.\u001b[0m\u001b[0mget_weights\u001b[0m\u001b[1;33m(\u001b[0m\u001b[1;33m)\u001b[0m\u001b[1;33m[\u001b[0m\u001b[1;36m0\u001b[0m\u001b[1;33m]\u001b[0m\u001b[1;33m\u001b[0m\u001b[1;33m\u001b[0m\u001b[0m\n\u001b[0m\u001b[0;32m      3\u001b[0m     \u001b[0mprint\u001b[0m\u001b[1;33m(\u001b[0m\u001b[0mY\u001b[0m\u001b[1;33m.\u001b[0m\u001b[0mshape\u001b[0m\u001b[1;33m)\u001b[0m\u001b[1;33m\u001b[0m\u001b[1;33m\u001b[0m\u001b[0m\n\u001b[0;32m      4\u001b[0m     \u001b[0mplt\u001b[0m\u001b[1;33m.\u001b[0m\u001b[0mfigure\u001b[0m\u001b[1;33m(\u001b[0m\u001b[0mfigsize\u001b[0m\u001b[1;33m=\u001b[0m\u001b[1;33m(\u001b[0m\u001b[1;36m8\u001b[0m\u001b[1;33m,\u001b[0m\u001b[1;36m8\u001b[0m\u001b[1;33m)\u001b[0m\u001b[1;33m)\u001b[0m\u001b[1;33m\u001b[0m\u001b[1;33m\u001b[0m\u001b[0m\n\u001b[0;32m      5\u001b[0m     \u001b[0mplt\u001b[0m\u001b[1;33m.\u001b[0m\u001b[0mscatter\u001b[0m\u001b[1;33m(\u001b[0m\u001b[1;33m-\u001b[0m\u001b[0mY\u001b[0m\u001b[1;33m[\u001b[0m\u001b[1;33m:\u001b[0m\u001b[1;33m,\u001b[0m \u001b[1;36m0\u001b[0m\u001b[1;33m]\u001b[0m\u001b[1;33m,\u001b[0m \u001b[1;33m-\u001b[0m\u001b[0mY\u001b[0m\u001b[1;33m[\u001b[0m\u001b[1;33m:\u001b[0m\u001b[1;33m,\u001b[0m \u001b[1;36m1\u001b[0m\u001b[1;33m]\u001b[0m\u001b[1;33m)\u001b[0m\u001b[1;33m\u001b[0m\u001b[1;33m\u001b[0m\u001b[0m\n",
      "\u001b[1;32m~\\anaconda3\\lib\\site-packages\\keras\\src\\engine\\training.py\u001b[0m in \u001b[0;36mget_layer\u001b[1;34m(self, name, index)\u001b[0m\n\u001b[0;32m   3541\u001b[0m                 \u001b[1;32mif\u001b[0m \u001b[0mlayer\u001b[0m\u001b[1;33m.\u001b[0m\u001b[0mname\u001b[0m \u001b[1;33m==\u001b[0m \u001b[0mname\u001b[0m\u001b[1;33m:\u001b[0m\u001b[1;33m\u001b[0m\u001b[1;33m\u001b[0m\u001b[0m\n\u001b[0;32m   3542\u001b[0m                     \u001b[1;32mreturn\u001b[0m \u001b[0mlayer\u001b[0m\u001b[1;33m\u001b[0m\u001b[1;33m\u001b[0m\u001b[0m\n\u001b[1;32m-> 3543\u001b[1;33m             raise ValueError(\n\u001b[0m\u001b[0;32m   3544\u001b[0m                 \u001b[1;34mf\"No such layer: {name}. Existing layers are: \"\u001b[0m\u001b[1;33m\u001b[0m\u001b[1;33m\u001b[0m\u001b[0m\n\u001b[0;32m   3545\u001b[0m                 \u001b[1;34mf\"{list(layer.name for layer in self.layers)}.\"\u001b[0m\u001b[1;33m\u001b[0m\u001b[1;33m\u001b[0m\u001b[0m\n",
      "\u001b[1;31mValueError\u001b[0m: No such layer: Month_Embed. Existing layers are: ['Store_input', 'DayOfWeek_input', 'Store_Embed', 'DayOfWeek_Embed', 'Store_flat', 'DayOfWeek_flat', 'BeforeStateHoliday_bool_input', 'Max_TemperatureC_input', 'All_Concatenate', 'dense_11', 'activation_10', 'dense_12', 'activation_11', 'Sales', 'Customers']."
     ]
    }
   ],
   "source": [
    "plot_embed('Month_Embed', list(range(12)))"
   ]
  },
  {
   "cell_type": "code",
   "execution_count": 144,
   "metadata": {},
   "outputs": [],
   "source": [
    "from sklearn.manifold import TSNE\n",
    "from sklearn.decomposition import PCA"
   ]
  },
  {
   "cell_type": "code",
   "execution_count": 145,
   "metadata": {},
   "outputs": [
    {
     "ename": "NameError",
     "evalue": "name 'day_of_week_embedding' is not defined",
     "output_type": "error",
     "traceback": [
      "\u001b[1;31m---------------------------------------------------------------------------\u001b[0m",
      "\u001b[1;31mNameError\u001b[0m                                 Traceback (most recent call last)",
      "\u001b[1;32mC:\\Users\\ALEXVA~1\\AppData\\Local\\Temp/ipykernel_20160/267370463.py\u001b[0m in \u001b[0;36m<module>\u001b[1;34m\u001b[0m\n\u001b[1;32m----> 1\u001b[1;33m \u001b[0mday_of_week_embedding\u001b[0m\u001b[1;33m.\u001b[0m\u001b[0mshape\u001b[0m\u001b[1;33m\u001b[0m\u001b[1;33m\u001b[0m\u001b[0m\n\u001b[0m",
      "\u001b[1;31mNameError\u001b[0m: name 'day_of_week_embedding' is not defined"
     ]
    }
   ],
   "source": [
    "day_of_week_embedding.shape"
   ]
  },
  {
   "cell_type": "code",
   "execution_count": 58,
   "metadata": {},
   "outputs": [
    {
     "data": {
      "image/png": "[encoded data removed]",
      "text/plain": [
       "<Figure size 576x576 with 1 Axes>"
      ]
     },
     "metadata": {
      "needs_background": "light"
     },
     "output_type": "display_data"
    }
   ],
   "source": [
    "tsne = TSNE(n_components=2, random_state=1, learning_rate=10, n_iter=10000)\n",
    "Y = tsne.fit_transform(day_of_week_embedding)\n",
    "names = ['Mon', 'Tue', 'Wed', 'Thu', 'Fri', 'Sat','Sun']\n",
    "plt.figure(figsize=(8,8))\n",
    "plt.scatter(-Y[:, 0], -Y[:, 1])\n",
    "for i, txt in enumerate(names):\n",
    "    plt.annotate(txt, (-Y[i, 0],-Y[i, 1]), xytext = (-5, 8), textcoords = 'offset points')"
   ]
  },
  {
   "cell_type": "code",
   "execution_count": 93,
   "metadata": {},
   "outputs": [
    {
     "data": {
      "text/plain": [
       "['Store',\n",
       " 'DayOfWeek',\n",
       " 'Year',\n",
       " 'Month',\n",
       " 'Day',\n",
       " 'StateHoliday',\n",
       " 'CompetitionMonthsOpen',\n",
       " 'Promo2Weeks',\n",
       " 'StoreType',\n",
       " 'Assortment',\n",
       " 'PromoInterval',\n",
       " 'CompetitionOpenSinceYear',\n",
       " 'Promo2SinceYear',\n",
       " 'State',\n",
       " 'Week',\n",
       " 'Events',\n",
       " 'Promo_fw',\n",
       " 'Promo_bw',\n",
       " 'StateHoliday_fw',\n",
       " 'StateHoliday_bw',\n",
       " 'SchoolHoliday_fw',\n",
       " 'SchoolHoliday_bw']"
      ]
     },
     "execution_count": 93,
     "metadata": {},
     "output_type": "execute_result"
    }
   ],
   "source": [
    "cat_vars"
   ]
  },
  {
   "cell_type": "markdown",
   "metadata": {},
   "source": [
    "## Store embeddings"
   ]
  },
  {
   "cell_type": "code",
   "execution_count": 94,
   "metadata": {},
   "outputs": [],
   "source": [
    "submodel = Model(cat_var_inputs + cont_vars_inputs, merged)"
   ]
  },
  {
   "cell_type": "code",
   "execution_count": 95,
   "metadata": {},
   "outputs": [
    {
     "name": "stdout",
     "output_type": "stream",
     "text": [
      "Model: \"model_3\"\n",
      "__________________________________________________________________________________________________\n",
      "Layer (type)                    Output Shape         Param #     Connected to                     \n",
      "==================================================================================================\n",
      "Store_input (InputLayer)        [(None, 1)]          0                                            \n",
      "__________________________________________________________________________________________________\n",
      "DayOfWeek_input (InputLayer)    [(None, 1)]          0                                            \n",
      "__________________________________________________________________________________________________\n",
      "Year_input (InputLayer)         [(None, 1)]          0                                            \n",
      "__________________________________________________________________________________________________\n",
      "Month_input (InputLayer)        [(None, 1)]          0                                            \n",
      "__________________________________________________________________________________________________\n",
      "Day_input (InputLayer)          [(None, 1)]          0                                            \n",
      "__________________________________________________________________________________________________\n",
      "StateHoliday_input (InputLayer) [(None, 1)]          0                                            \n",
      "__________________________________________________________________________________________________\n",
      "CompetitionMonthsOpen_input (In [(None, 1)]          0                                            \n",
      "__________________________________________________________________________________________________\n",
      "Promo2Weeks_input (InputLayer)  [(None, 1)]          0                                            \n",
      "__________________________________________________________________________________________________\n",
      "StoreType_input (InputLayer)    [(None, 1)]          0                                            \n",
      "__________________________________________________________________________________________________\n",
      "Assortment_input (InputLayer)   [(None, 1)]          0                                            \n",
      "__________________________________________________________________________________________________\n",
      "PromoInterval_input (InputLayer [(None, 1)]          0                                            \n",
      "__________________________________________________________________________________________________\n",
      "CompetitionOpenSinceYear_input  [(None, 1)]          0                                            \n",
      "__________________________________________________________________________________________________\n",
      "Promo2SinceYear_input (InputLay [(None, 1)]          0                                            \n",
      "__________________________________________________________________________________________________\n",
      "State_input (InputLayer)        [(None, 1)]          0                                            \n",
      "__________________________________________________________________________________________________\n",
      "Week_input (InputLayer)         [(None, 1)]          0                                            \n",
      "__________________________________________________________________________________________________\n",
      "Events_input (InputLayer)       [(None, 1)]          0                                            \n",
      "__________________________________________________________________________________________________\n",
      "Promo_fw_input (InputLayer)     [(None, 1)]          0                                            \n",
      "__________________________________________________________________________________________________\n",
      "Promo_bw_input (InputLayer)     [(None, 1)]          0                                            \n",
      "__________________________________________________________________________________________________\n",
      "StateHoliday_fw_input (InputLay [(None, 1)]          0                                            \n",
      "__________________________________________________________________________________________________\n",
      "StateHoliday_bw_input (InputLay [(None, 1)]          0                                            \n",
      "__________________________________________________________________________________________________\n",
      "SchoolHoliday_fw_input (InputLa [(None, 1)]          0                                            \n",
      "__________________________________________________________________________________________________\n",
      "SchoolHoliday_bw_input (InputLa [(None, 1)]          0                                            \n",
      "__________________________________________________________________________________________________\n",
      "Store_Embed (Embedding)         (None, 1, 50)        55750       Store_input[0][0]                \n",
      "__________________________________________________________________________________________________\n",
      "DayOfWeek_Embed (Embedding)     (None, 1, 2)         14          DayOfWeek_input[0][0]            \n",
      "__________________________________________________________________________________________________\n",
      "Year_Embed (Embedding)          (None, 1, 2)         6           Year_input[0][0]                 \n",
      "__________________________________________________________________________________________________\n",
      "Month_Embed (Embedding)         (None, 1, 6)         72          Month_input[0][0]                \n",
      "__________________________________________________________________________________________________\n",
      "Day_Embed (Embedding)           (None, 1, 10)        310         Day_input[0][0]                  \n",
      "__________________________________________________________________________________________________\n",
      "StateHoliday_Embed (Embedding)  (None, 1, 3)         6           StateHoliday_input[0][0]         \n",
      "__________________________________________________________________________________________________\n",
      "CompetitionMonthsOpen_Embed (Em (None, 1, 2)         50          CompetitionMonthsOpen_input[0][0]\n",
      "__________________________________________________________________________________________________\n",
      "Promo2Weeks_Embed (Embedding)   (None, 1, 1)         26          Promo2Weeks_input[0][0]          \n",
      "__________________________________________________________________________________________________\n",
      "StoreType_Embed (Embedding)     (None, 1, 2)         8           StoreType_input[0][0]            \n",
      "__________________________________________________________________________________________________\n",
      "Assortment_Embed (Embedding)    (None, 1, 3)         9           Assortment_input[0][0]           \n",
      "__________________________________________________________________________________________________\n",
      "PromoInterval_Embed (Embedding) (None, 1, 3)         12          PromoInterval_input[0][0]        \n",
      "__________________________________________________________________________________________________\n",
      "CompetitionOpenSinceYear_Embed  (None, 1, 4)         84          CompetitionOpenSinceYear_input[0]\n",
      "__________________________________________________________________________________________________\n",
      "Promo2SinceYear_Embed (Embeddin (None, 1, 4)         32          Promo2SinceYear_input[0][0]      \n",
      "__________________________________________________________________________________________________\n",
      "State_Embed (Embedding)         (None, 1, 6)         72          State_input[0][0]                \n",
      "__________________________________________________________________________________________________\n",
      "Week_Embed (Embedding)          (None, 1, 2)         104         Week_input[0][0]                 \n",
      "__________________________________________________________________________________________________\n",
      "Events_Embed (Embedding)        (None, 1, 4)         88          Events_input[0][0]               \n",
      "__________________________________________________________________________________________________\n",
      "Promo_fw_Embed (Embedding)      (None, 1, 1)         6           Promo_fw_input[0][0]             \n",
      "__________________________________________________________________________________________________\n",
      "Promo_bw_Embed (Embedding)      (None, 1, 1)         6           Promo_bw_input[0][0]             \n",
      "__________________________________________________________________________________________________\n",
      "StateHoliday_fw_Embed (Embeddin (None, 1, 1)         3           StateHoliday_fw_input[0][0]      \n",
      "__________________________________________________________________________________________________\n",
      "StateHoliday_bw_Embed (Embeddin (None, 1, 1)         3           StateHoliday_bw_input[0][0]      \n",
      "__________________________________________________________________________________________________\n",
      "SchoolHoliday_fw_Embed (Embeddi (None, 1, 1)         8           SchoolHoliday_fw_input[0][0]     \n",
      "__________________________________________________________________________________________________\n",
      "SchoolHoliday_bw_Embed (Embeddi (None, 1, 1)         8           SchoolHoliday_bw_input[0][0]     \n",
      "__________________________________________________________________________________________________\n",
      "Store_flat (Flatten)            (None, 50)           0           Store_Embed[0][0]                \n",
      "__________________________________________________________________________________________________\n",
      "DayOfWeek_flat (Flatten)        (None, 2)            0           DayOfWeek_Embed[0][0]            \n",
      "__________________________________________________________________________________________________\n",
      "Year_flat (Flatten)             (None, 2)            0           Year_Embed[0][0]                 \n",
      "__________________________________________________________________________________________________\n",
      "Month_flat (Flatten)            (None, 6)            0           Month_Embed[0][0]                \n",
      "__________________________________________________________________________________________________\n",
      "Day_flat (Flatten)              (None, 10)           0           Day_Embed[0][0]                  \n",
      "__________________________________________________________________________________________________\n",
      "StateHoliday_flat (Flatten)     (None, 3)            0           StateHoliday_Embed[0][0]         \n",
      "__________________________________________________________________________________________________\n",
      "CompetitionMonthsOpen_flat (Fla (None, 2)            0           CompetitionMonthsOpen_Embed[0][0]\n",
      "__________________________________________________________________________________________________\n",
      "Promo2Weeks_flat (Flatten)      (None, 1)            0           Promo2Weeks_Embed[0][0]          \n",
      "__________________________________________________________________________________________________\n",
      "StoreType_flat (Flatten)        (None, 2)            0           StoreType_Embed[0][0]            \n",
      "__________________________________________________________________________________________________\n",
      "Assortment_flat (Flatten)       (None, 3)            0           Assortment_Embed[0][0]           \n",
      "__________________________________________________________________________________________________\n",
      "PromoInterval_flat (Flatten)    (None, 3)            0           PromoInterval_Embed[0][0]        \n",
      "__________________________________________________________________________________________________\n",
      "CompetitionOpenSinceYear_flat ( (None, 4)            0           CompetitionOpenSinceYear_Embed[0]\n",
      "__________________________________________________________________________________________________\n",
      "Promo2SinceYear_flat (Flatten)  (None, 4)            0           Promo2SinceYear_Embed[0][0]      \n",
      "__________________________________________________________________________________________________\n",
      "State_flat (Flatten)            (None, 6)            0           State_Embed[0][0]                \n",
      "__________________________________________________________________________________________________\n",
      "Week_flat (Flatten)             (None, 2)            0           Week_Embed[0][0]                 \n",
      "__________________________________________________________________________________________________\n",
      "Events_flat (Flatten)           (None, 4)            0           Events_Embed[0][0]               \n",
      "__________________________________________________________________________________________________\n",
      "Promo_fw_flat (Flatten)         (None, 1)            0           Promo_fw_Embed[0][0]             \n",
      "__________________________________________________________________________________________________\n",
      "Promo_bw_flat (Flatten)         (None, 1)            0           Promo_bw_Embed[0][0]             \n",
      "__________________________________________________________________________________________________\n",
      "StateHoliday_fw_flat (Flatten)  (None, 1)            0           StateHoliday_fw_Embed[0][0]      \n",
      "__________________________________________________________________________________________________\n",
      "StateHoliday_bw_flat (Flatten)  (None, 1)            0           StateHoliday_bw_Embed[0][0]      \n",
      "__________________________________________________________________________________________________\n",
      "SchoolHoliday_fw_flat (Flatten) (None, 1)            0           SchoolHoliday_fw_Embed[0][0]     \n",
      "__________________________________________________________________________________________________\n",
      "SchoolHoliday_bw_flat (Flatten) (None, 1)            0           SchoolHoliday_bw_Embed[0][0]     \n",
      "__________________________________________________________________________________________________\n",
      "CompetitionDistance_input (Inpu [(None, 1)]          0                                            \n",
      "__________________________________________________________________________________________________\n",
      "Max_TemperatureC_input (InputLa [(None, 1)]          0                                            \n",
      "__________________________________________________________________________________________________\n",
      "Mean_TemperatureC_input (InputL [(None, 1)]          0                                            \n",
      "__________________________________________________________________________________________________\n",
      "Min_TemperatureC_input (InputLa [(None, 1)]          0                                            \n",
      "__________________________________________________________________________________________________\n",
      "Max_Humidity_input (InputLayer) [(None, 1)]          0                                            \n",
      "__________________________________________________________________________________________________\n",
      "Mean_Humidity_input (InputLayer [(None, 1)]          0                                            \n",
      "__________________________________________________________________________________________________\n",
      "Min_Humidity_input (InputLayer) [(None, 1)]          0                                            \n",
      "__________________________________________________________________________________________________\n",
      "Max_Wind_SpeedKm_h_input (Input [(None, 1)]          0                                            \n",
      "__________________________________________________________________________________________________\n",
      "Mean_Wind_SpeedKm_h_input (Inpu [(None, 1)]          0                                            \n",
      "__________________________________________________________________________________________________\n",
      "CloudCover_input (InputLayer)   [(None, 1)]          0                                            \n",
      "__________________________________________________________________________________________________\n",
      "trend_input (InputLayer)        [(None, 1)]          0                                            \n",
      "__________________________________________________________________________________________________\n",
      "trend_DE_input (InputLayer)     [(None, 1)]          0                                            \n",
      "__________________________________________________________________________________________________\n",
      "AfterStateHoliday_input (InputL [(None, 1)]          0                                            \n",
      "__________________________________________________________________________________________________\n",
      "BeforeStateHoliday_input (Input [(None, 1)]          0                                            \n",
      "__________________________________________________________________________________________________\n",
      "Promo_input (InputLayer)        [(None, 1)]          0                                            \n",
      "__________________________________________________________________________________________________\n",
      "SchoolHoliday_input (InputLayer [(None, 1)]          0                                            \n",
      "__________________________________________________________________________________________________\n",
      "All_Concatenate (Concatenate)   (None, 126)          0           Store_flat[0][0]                 \n",
      "                                                                 DayOfWeek_flat[0][0]             \n",
      "                                                                 Year_flat[0][0]                  \n",
      "                                                                 Month_flat[0][0]                 \n",
      "                                                                 Day_flat[0][0]                   \n",
      "                                                                 StateHoliday_flat[0][0]          \n",
      "                                                                 CompetitionMonthsOpen_flat[0][0] \n",
      "                                                                 Promo2Weeks_flat[0][0]           \n",
      "                                                                 StoreType_flat[0][0]             \n",
      "                                                                 Assortment_flat[0][0]            \n",
      "                                                                 PromoInterval_flat[0][0]         \n",
      "                                                                 CompetitionOpenSinceYear_flat[0][\n",
      "                                                                 Promo2SinceYear_flat[0][0]       \n",
      "                                                                 State_flat[0][0]                 \n",
      "                                                                 Week_flat[0][0]                  \n",
      "                                                                 Events_flat[0][0]                \n",
      "                                                                 Promo_fw_flat[0][0]              \n",
      "                                                                 Promo_bw_flat[0][0]              \n",
      "                                                                 StateHoliday_fw_flat[0][0]       \n",
      "                                                                 StateHoliday_bw_flat[0][0]       \n",
      "                                                                 SchoolHoliday_fw_flat[0][0]      \n",
      "                                                                 SchoolHoliday_bw_flat[0][0]      \n",
      "                                                                 CompetitionDistance_input[0][0]  \n",
      "                                                                 Max_TemperatureC_input[0][0]     \n",
      "                                                                 Mean_TemperatureC_input[0][0]    \n",
      "                                                                 Min_TemperatureC_input[0][0]     \n",
      "                                                                 Max_Humidity_input[0][0]         \n",
      "                                                                 Mean_Humidity_input[0][0]        \n",
      "                                                                 Min_Humidity_input[0][0]         \n",
      "                                                                 Max_Wind_SpeedKm_h_input[0][0]   \n",
      "                                                                 Mean_Wind_SpeedKm_h_input[0][0]  \n",
      "                                                                 CloudCover_input[0][0]           \n",
      "                                                                 trend_input[0][0]                \n",
      "                                                                 trend_DE_input[0][0]             \n",
      "                                                                 AfterStateHoliday_input[0][0]    \n",
      "                                                                 BeforeStateHoliday_input[0][0]   \n",
      "                                                                 Promo_input[0][0]                \n",
      "                                                                 SchoolHoliday_input[0][0]        \n",
      "==================================================================================================\n",
      "Total params: 56,677\n",
      "Trainable params: 56,677\n",
      "Non-trainable params: 0\n",
      "__________________________________________________________________________________________________\n"
     ]
    }
   ],
   "source": [
    "submodel.summary()"
   ]
  },
  {
   "cell_type": "code",
   "execution_count": 52,
   "metadata": {},
   "outputs": [],
   "source": [
    "submodel.save('embeddings_model.hdf5')"
   ]
  },
  {
   "cell_type": "code",
   "execution_count": null,
   "metadata": {},
   "outputs": [],
   "source": []
  }
 ],
 "metadata": {
  "kernelspec": {
   "display_name": "Python 3 (ipykernel)",
   "language": "python",
   "name": "python3"
  },
  "language_info": {
   "codemirror_mode": {
    "name": "ipython",
    "version": 3
   },
   "file_extension": ".py",
   "mimetype": "text/x-python",
   "name": "python",
   "nbconvert_exporter": "python",
   "pygments_lexer": "ipython3",
   "version": "3.9.7"
  }
 },
 "nbformat": 4,
 "nbformat_minor": 4
}
